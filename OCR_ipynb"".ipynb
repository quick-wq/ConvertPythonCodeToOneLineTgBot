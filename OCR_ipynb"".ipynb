{
  "nbformat": 4,
  "nbformat_minor": 0,
  "metadata": {
    "colab": {
      "provenance": [],
      "include_colab_link": true
    },
    "kernelspec": {
      "name": "python3",
      "display_name": "Python 3"
    },
    "accelerator": "GPU",
    "gpuClass": "standard",
    "widgets": {
      "application/vnd.jupyter.widget-state+json": {
        "3eddbd5ab3d34b5a97d482f22bb93077": {
          "model_module": "@jupyter-widgets/controls",
          "model_name": "CheckboxModel",
          "model_module_version": "1.5.0",
          "state": {
            "_dom_classes": [],
            "_model_module": "@jupyter-widgets/controls",
            "_model_module_version": "1.5.0",
            "_model_name": "CheckboxModel",
            "_view_count": null,
            "_view_module": "@jupyter-widgets/controls",
            "_view_module_version": "1.5.0",
            "_view_name": "CheckboxView",
            "description": "Переименовать изображения в img1.jpg; img2.jpg",
            "description_tooltip": null,
            "disabled": false,
            "indent": false,
            "layout": "IPY_MODEL_a7b583a5d787439fa258659b0fc686e4",
            "style": "IPY_MODEL_f6ab62486bed467a9291f9602559a01b",
            "value": false
          }
        },
        "a7b583a5d787439fa258659b0fc686e4": {
          "model_module": "@jupyter-widgets/base",
          "model_name": "LayoutModel",
          "model_module_version": "1.2.0",
          "state": {
            "_model_module": "@jupyter-widgets/base",
            "_model_module_version": "1.2.0",
            "_model_name": "LayoutModel",
            "_view_count": null,
            "_view_module": "@jupyter-widgets/base",
            "_view_module_version": "1.2.0",
            "_view_name": "LayoutView",
            "align_content": null,
            "align_items": null,
            "align_self": null,
            "border": null,
            "bottom": null,
            "display": null,
            "flex": null,
            "flex_flow": null,
            "grid_area": null,
            "grid_auto_columns": null,
            "grid_auto_flow": null,
            "grid_auto_rows": null,
            "grid_column": null,
            "grid_gap": null,
            "grid_row": null,
            "grid_template_areas": null,
            "grid_template_columns": null,
            "grid_template_rows": null,
            "height": null,
            "justify_content": null,
            "justify_items": null,
            "left": null,
            "margin": null,
            "max_height": null,
            "max_width": null,
            "min_height": null,
            "min_width": null,
            "object_fit": null,
            "object_position": null,
            "order": null,
            "overflow": null,
            "overflow_x": null,
            "overflow_y": null,
            "padding": null,
            "right": null,
            "top": null,
            "visibility": null,
            "width": null
          }
        },
        "f6ab62486bed467a9291f9602559a01b": {
          "model_module": "@jupyter-widgets/controls",
          "model_name": "DescriptionStyleModel",
          "model_module_version": "1.5.0",
          "state": {
            "_model_module": "@jupyter-widgets/controls",
            "_model_module_version": "1.5.0",
            "_model_name": "DescriptionStyleModel",
            "_view_count": null,
            "_view_module": "@jupyter-widgets/base",
            "_view_module_version": "1.2.0",
            "_view_name": "StyleView",
            "description_width": ""
          }
        }
      }
    }
  },
  "cells": [
    {
      "cell_type": "markdown",
      "metadata": {
        "id": "view-in-github",
        "colab_type": "text"
      },
      "source": [
        "<a href=\"https://colab.research.google.com/github/quick-wq/ConvertPythonCodeToOneLineTgBot/blob/patch-1/OCR_ipynb%22%22.ipynb\" target=\"_parent\"><img src=\"https://colab.research.google.com/assets/colab-badge.svg\" alt=\"Open In Colab\"/></a>"
      ]
    },
    {
      "cell_type": "markdown",
      "metadata": {
        "id": "_I13dfVEjVZ5"
      },
      "source": [
        "\n",
        "\n",
        "```\n",
        "# This is formatted as code\n",
        "```\n",
        "\n",
        "# Optical Character Recognition using Tesseract"
      ]
    },
    {
      "cell_type": "markdown",
      "metadata": {
        "id": "ydvTlknjrAHU"
      },
      "source": [
        "# By Suyesha Bhattacharjee\n",
        "\n",
        "\n",
        "# IoT and Computer Vision Intern"
      ]
    },
    {
      "cell_type": "markdown",
      "metadata": {
        "id": "wpWkMPfNj66y"
      },
      "source": [
        "Optical Character Recognition(OCR) has been a popular task in Computer Vision. Tesseract is the most open-source software available for OCR. It was initially developed by HP as a tool in C++. \n",
        "Since 2006 it is developed by Google. The original software is available as a command-line tool for windows. We are living in a python world. Because of its popularity,the tool is also available in python--developed and maintained as an opensource project."
      ]
    },
    {
      "cell_type": "markdown",
      "metadata": {
        "id": "GDZYVGrJkorH"
      },
      "source": [
        "### Step1. Install Pytesseract and tesseract-OCR in Google Colab."
      ]
    },
    {
      "cell_type": "code",
      "metadata": {
        "id": "uWwpI-24_Nob",
        "colab": {
          "base_uri": "https://localhost:8080/"
        },
        "outputId": "d174e6c0-d7ea-465a-b329-92fa54fade18"
      },
      "source": [
        "!sudo apt install tesseract-ocr\n",
        "!pip install pytesseract tqdm numba\n",
        "!wget -O /usr/share/tesseract-ocr/4.00/tessdata/rus.traineddata https://github.com/tesseract-ocr/tessdata_best/raw/main/rus.traineddata"
      ],
      "execution_count": null,
      "outputs": [
        {
          "output_type": "stream",
          "name": "stdout",
          "text": [
            "Reading package lists... Done\n",
            "Building dependency tree       \n",
            "Reading state information... Done\n",
            "The following additional packages will be installed:\n",
            "  tesseract-ocr-eng tesseract-ocr-osd\n",
            "The following NEW packages will be installed:\n",
            "  tesseract-ocr tesseract-ocr-eng tesseract-ocr-osd\n",
            "0 upgraded, 3 newly installed, 0 to remove and 23 not upgraded.\n",
            "Need to get 4,850 kB of archives.\n",
            "After this operation, 16.3 MB of additional disk space will be used.\n",
            "Get:1 http://archive.ubuntu.com/ubuntu focal/universe amd64 tesseract-ocr-eng all 1:4.00~git30-7274cfa-1 [1,598 kB]\n",
            "Get:2 http://archive.ubuntu.com/ubuntu focal/universe amd64 tesseract-ocr-osd all 1:4.00~git30-7274cfa-1 [2,990 kB]\n",
            "Get:3 http://archive.ubuntu.com/ubuntu focal/universe amd64 tesseract-ocr amd64 4.1.1-2build2 [262 kB]\n",
            "Fetched 4,850 kB in 1s (7,336 kB/s)\n",
            "debconf: unable to initialize frontend: Dialog\n",
            "debconf: (No usable dialog-like program is installed, so the dialog based frontend cannot be used. at /usr/share/perl5/Debconf/FrontEnd/Dialog.pm line 76, <> line 3.)\n",
            "debconf: falling back to frontend: Readline\n",
            "debconf: unable to initialize frontend: Readline\n",
            "debconf: (This frontend requires a controlling tty.)\n",
            "debconf: falling back to frontend: Teletype\n",
            "dpkg-preconfigure: unable to re-open stdin: \n",
            "Selecting previously unselected package tesseract-ocr-eng.\n",
            "(Reading database ... 128288 files and directories currently installed.)\n",
            "Preparing to unpack .../tesseract-ocr-eng_1%3a4.00~git30-7274cfa-1_all.deb ...\n",
            "Unpacking tesseract-ocr-eng (1:4.00~git30-7274cfa-1) ...\n",
            "Selecting previously unselected package tesseract-ocr-osd.\n",
            "Preparing to unpack .../tesseract-ocr-osd_1%3a4.00~git30-7274cfa-1_all.deb ...\n",
            "Unpacking tesseract-ocr-osd (1:4.00~git30-7274cfa-1) ...\n",
            "Selecting previously unselected package tesseract-ocr.\n",
            "Preparing to unpack .../tesseract-ocr_4.1.1-2build2_amd64.deb ...\n",
            "Unpacking tesseract-ocr (4.1.1-2build2) ...\n",
            "Setting up tesseract-ocr-eng (1:4.00~git30-7274cfa-1) ...\n",
            "Setting up tesseract-ocr-osd (1:4.00~git30-7274cfa-1) ...\n",
            "Setting up tesseract-ocr (4.1.1-2build2) ...\n",
            "Processing triggers for man-db (2.9.1-1) ...\n",
            "Looking in indexes: https://pypi.org/simple, https://us-python.pkg.dev/colab-wheels/public/simple/\n",
            "Collecting pytesseract\n",
            "  Downloading pytesseract-0.3.10-py3-none-any.whl (14 kB)\n",
            "Requirement already satisfied: tqdm in /usr/local/lib/python3.9/dist-packages (4.65.0)\n",
            "Requirement already satisfied: numba in /usr/local/lib/python3.9/dist-packages (0.56.4)\n",
            "Requirement already satisfied: Pillow>=8.0.0 in /usr/local/lib/python3.9/dist-packages (from pytesseract) (8.4.0)\n",
            "Requirement already satisfied: packaging>=21.3 in /usr/local/lib/python3.9/dist-packages (from pytesseract) (23.0)\n",
            "Requirement already satisfied: numpy<1.24,>=1.18 in /usr/local/lib/python3.9/dist-packages (from numba) (1.22.4)\n",
            "Requirement already satisfied: llvmlite<0.40,>=0.39.0dev0 in /usr/local/lib/python3.9/dist-packages (from numba) (0.39.1)\n",
            "Requirement already satisfied: setuptools in /usr/local/lib/python3.9/dist-packages (from numba) (67.6.1)\n",
            "Installing collected packages: pytesseract\n",
            "Successfully installed pytesseract-0.3.10\n",
            "--2023-03-30 13:09:29--  https://github.com/tesseract-ocr/tessdata_best/raw/main/rus.traineddata\n",
            "Resolving github.com (github.com)... 140.82.112.4\n",
            "Connecting to github.com (github.com)|140.82.112.4|:443... connected.\n",
            "HTTP request sent, awaiting response... 302 Found\n",
            "Location: https://raw.githubusercontent.com/tesseract-ocr/tessdata_best/main/rus.traineddata [following]\n",
            "--2023-03-30 13:09:29--  https://raw.githubusercontent.com/tesseract-ocr/tessdata_best/main/rus.traineddata\n",
            "Resolving raw.githubusercontent.com (raw.githubusercontent.com)... 185.199.108.133, 185.199.111.133, 185.199.110.133, ...\n",
            "Connecting to raw.githubusercontent.com (raw.githubusercontent.com)|185.199.108.133|:443... connected.\n",
            "HTTP request sent, awaiting response... 200 OK\n",
            "Length: 15301764 (15M) [application/octet-stream]\n",
            "Saving to: ‘/usr/share/tesseract-ocr/4.00/tessdata/rus.traineddata’\n",
            "\n",
            "/usr/share/tesserac 100%[===================>]  14.59M  61.6MB/s    in 0.2s    \n",
            "\n",
            "2023-03-30 13:09:29 (61.6 MB/s) - ‘/usr/share/tesseract-ocr/4.00/tessdata/rus.traineddata’ saved [15301764/15301764]\n",
            "\n"
          ]
        }
      ]
    },
    {
      "cell_type": "markdown",
      "metadata": {
        "id": "zlsiJdwnkyx7"
      },
      "source": [
        "### Step2. import libraries"
      ]
    },
    {
      "cell_type": "code",
      "metadata": {
        "id": "QKJh7JjTAqzO"
      },
      "source": [
        "import pytesseract\n",
        "import shutil\n",
        "import os\n",
        "import random\n",
        "from tqdm import tqdm\n",
        "import numba\n",
        "from numba import jit\n",
        "try:\n",
        "    from PIL import Image\n",
        "except ImportError:\n",
        "    import Image"
      ],
      "execution_count": null,
      "outputs": []
    },
    {
      "cell_type": "markdown",
      "metadata": {
        "id": "yjaf9bJ3k4GC"
      },
      "source": [
        "### Step3. Upload Image to the Colab"
      ]
    },
    {
      "cell_type": "code",
      "metadata": {
        "id": "8zmc-K_nAyg1",
        "colab": {
          "base_uri": "https://localhost:8080/"
        },
        "outputId": "5bb535f1-dfef-4a8a-a815-5241abdeaf0d"
      },
      "source": [
        "from google.colab import drive\n",
        "drive.mount('/content/drive')\n",
        "\n",
        "import os\n",
        "\n",
        "path = \"/content/drive/MyDrive/pictures\" # Имя папки, укажите свое\n",
        "if not os.path.exists(path):\n",
        "    os.makedirs(path)\n",
        "\n",
        "os.chdir(path)"
      ],
      "execution_count": null,
      "outputs": [
        {
          "output_type": "stream",
          "name": "stdout",
          "text": [
            "Mounted at /content/drive\n"
          ]
        }
      ]
    },
    {
      "cell_type": "code",
      "source": [
        "#@title\n",
        "import ipywidgets as widgets\n",
        "\n",
        "# Создаем виджет чекбокс\n",
        "checkbox = widgets.Checkbox(\n",
        "    value=False,\n",
        "    description='Переименовать изображения в img1.jpg; img2.jpg',\n",
        "    indent=False\n",
        ")\n",
        "\n",
        "def rename_images(checkbox):\n",
        "    if checkbox.value == True:\n",
        "        file_list = [f for f in os.listdir(path) if f.endswith('.jpg')]\n",
        "\n",
        "        for i, file_name in enumerate(file_list):\n",
        "            new_file_name = 'img'+str(i+1)+'.jpg'\n",
        "            os.rename(os.path.join(path, file_name), os.path.join(path, new_file_name))\n",
        "\n",
        "        print(\"Все изображения успешно пронумерованы и переименованы!\")\n",
        "\n",
        "# Добавляем обработчик событий на изменение значения чекбокса\n",
        "checkbox.observe(rename_images, 'value')\n",
        "\n",
        "# Отображаем чекбокс\n",
        "display(checkbox)"
      ],
      "metadata": {
        "id": "hyqv0qeWL-In",
        "colab": {
          "base_uri": "https://localhost:8080/",
          "height": 69,
          "referenced_widgets": [
            "3eddbd5ab3d34b5a97d482f22bb93077",
            "a7b583a5d787439fa258659b0fc686e4",
            "f6ab62486bed467a9291f9602559a01b"
          ]
        },
        "outputId": "adcde8f0-e43d-4117-bba7-32965489dc07",
        "cellView": "form"
      },
      "execution_count": null,
      "outputs": [
        {
          "output_type": "display_data",
          "data": {
            "text/plain": [
              "Checkbox(value=False, description='Переименовать изображения в img1.jpg; img2.jpg', indent=False)"
            ],
            "application/vnd.jupyter.widget-view+json": {
              "version_major": 2,
              "version_minor": 0,
              "model_id": "3eddbd5ab3d34b5a97d482f22bb93077"
            }
          },
          "metadata": {}
        }
      ]
    },
    {
      "cell_type": "code",
      "source": [
        "@jit()\n",
        "def process_image(file):\n",
        "    extractedInformation = pytesseract.image_to_string(Image.open(file), lang='rus')\n",
        "    # открываем файл для записи\n",
        "    f = open(file.replace('.jpg', '.txt'), 'w', encoding='utf-8')\n",
        "    try:\n",
        "        f.write(extractedInformation)\n",
        "    finally:\n",
        "        # закрываем файл\n",
        "        f.close()\n",
        "\n",
        "file_list = [f for f in os.listdir(path) if f.endswith('.jpg')]\n",
        "\n",
        "for file in tqdm(file_list):\n",
        "    process_image(file)"
      ],
      "metadata": {
        "colab": {
          "base_uri": "https://localhost:8080/",
          "height": 939
        },
        "id": "6rqAf-ExodBu",
        "outputId": "886b601d-e3f0-459e-e271-40071fc73b91"
      },
      "execution_count": 13,
      "outputs": [
        {
          "output_type": "stream",
          "name": "stderr",
          "text": [
            "  0%|          | 0/23 [00:00<?, ?it/s]<ipython-input-13-02e668d2a3dc>:1: NumbaWarning: \n",
            "Compilation is falling back to object mode WITH looplifting enabled because Function \"process_image\" failed type inference due to: Untyped global name 'open': Cannot determine Numba type of <class 'builtin_function_or_method'>\n",
            "\n",
            "File \"<ipython-input-13-02e668d2a3dc>\", line 5:\n",
            "def process_image(file):\n",
            "    <source elided>\n",
            "    # открываем файл для записи\n",
            "    f = open(file.replace('.jpg', '.txt'), 'w', encoding='utf-8')\n",
            "    ^\n",
            "\n",
            "  @jit()\n",
            "  0%|          | 0/23 [00:00<?, ?it/s]\n"
          ]
        },
        {
          "output_type": "error",
          "ename": "NumbaNotImplementedError",
          "evalue": "ignored",
          "traceback": [
            "\u001b[0;31m---------------------------------------------------------------------------\u001b[0m",
            "\u001b[0;31mNumbaNotImplementedError\u001b[0m                  Traceback (most recent call last)",
            "\u001b[0;32m<ipython-input-13-02e668d2a3dc>\u001b[0m in \u001b[0;36m<cell line: 14>\u001b[0;34m()\u001b[0m\n\u001b[1;32m     13\u001b[0m \u001b[0;34m\u001b[0m\u001b[0m\n\u001b[1;32m     14\u001b[0m \u001b[0;32mfor\u001b[0m \u001b[0mfile\u001b[0m \u001b[0;32min\u001b[0m \u001b[0mtqdm\u001b[0m\u001b[0;34m(\u001b[0m\u001b[0mfile_list\u001b[0m\u001b[0;34m)\u001b[0m\u001b[0;34m:\u001b[0m\u001b[0;34m\u001b[0m\u001b[0;34m\u001b[0m\u001b[0m\n\u001b[0;32m---> 15\u001b[0;31m     \u001b[0mprocess_image\u001b[0m\u001b[0;34m(\u001b[0m\u001b[0mfile\u001b[0m\u001b[0;34m)\u001b[0m\u001b[0;34m\u001b[0m\u001b[0;34m\u001b[0m\u001b[0m\n\u001b[0m",
            "\u001b[0;32m/usr/local/lib/python3.9/dist-packages/numba/core/dispatcher.py\u001b[0m in \u001b[0;36m_compile_for_args\u001b[0;34m(self, *args, **kws)\u001b[0m\n\u001b[1;32m    466\u001b[0m                 \u001b[0me\u001b[0m\u001b[0;34m.\u001b[0m\u001b[0mpatch_message\u001b[0m\u001b[0;34m(\u001b[0m\u001b[0mmsg\u001b[0m\u001b[0;34m)\u001b[0m\u001b[0;34m\u001b[0m\u001b[0;34m\u001b[0m\u001b[0m\n\u001b[1;32m    467\u001b[0m \u001b[0;34m\u001b[0m\u001b[0m\n\u001b[0;32m--> 468\u001b[0;31m             \u001b[0merror_rewrite\u001b[0m\u001b[0;34m(\u001b[0m\u001b[0me\u001b[0m\u001b[0;34m,\u001b[0m \u001b[0;34m'typing'\u001b[0m\u001b[0;34m)\u001b[0m\u001b[0;34m\u001b[0m\u001b[0;34m\u001b[0m\u001b[0m\n\u001b[0m\u001b[1;32m    469\u001b[0m         \u001b[0;32mexcept\u001b[0m \u001b[0merrors\u001b[0m\u001b[0;34m.\u001b[0m\u001b[0mUnsupportedError\u001b[0m \u001b[0;32mas\u001b[0m \u001b[0me\u001b[0m\u001b[0;34m:\u001b[0m\u001b[0;34m\u001b[0m\u001b[0;34m\u001b[0m\u001b[0m\n\u001b[1;32m    470\u001b[0m             \u001b[0;31m# Something unsupported is present in the user code, add help info\u001b[0m\u001b[0;34m\u001b[0m\u001b[0;34m\u001b[0m\u001b[0m\n",
            "\u001b[0;32m/usr/local/lib/python3.9/dist-packages/numba/core/dispatcher.py\u001b[0m in \u001b[0;36merror_rewrite\u001b[0;34m(e, issue_type)\u001b[0m\n\u001b[1;32m    407\u001b[0m                 \u001b[0;32mraise\u001b[0m \u001b[0me\u001b[0m\u001b[0;34m\u001b[0m\u001b[0;34m\u001b[0m\u001b[0m\n\u001b[1;32m    408\u001b[0m             \u001b[0;32melse\u001b[0m\u001b[0;34m:\u001b[0m\u001b[0;34m\u001b[0m\u001b[0;34m\u001b[0m\u001b[0m\n\u001b[0;32m--> 409\u001b[0;31m                 \u001b[0;32mraise\u001b[0m \u001b[0me\u001b[0m\u001b[0;34m.\u001b[0m\u001b[0mwith_traceback\u001b[0m\u001b[0;34m(\u001b[0m\u001b[0;32mNone\u001b[0m\u001b[0;34m)\u001b[0m\u001b[0;34m\u001b[0m\u001b[0;34m\u001b[0m\u001b[0m\n\u001b[0m\u001b[1;32m    410\u001b[0m \u001b[0;34m\u001b[0m\u001b[0m\n\u001b[1;32m    411\u001b[0m         \u001b[0margtypes\u001b[0m \u001b[0;34m=\u001b[0m \u001b[0;34m[\u001b[0m\u001b[0;34m]\u001b[0m\u001b[0;34m\u001b[0m\u001b[0;34m\u001b[0m\u001b[0m\n",
            "\u001b[0;31mNumbaNotImplementedError\u001b[0m: Failed in object mode pipeline (step: object mode backend)\n<class 'numba.core.ir.StaticRaise'>, <static> raise <class 'AssertionError'>(\"Unreachable condition reached (op code RERAISE executed)\\n-------------------------------------------------------------------------------\\nThis should not have happened, a problem has occurred in Numba's internals.\\nYou are currently using Numba version 0.56.4.\\n\\nPlease report the error message and traceback, along with a minimal reproducer\\nat: https://github.com/numba/numba/issues/new?template=bug_report.md\\n\\nIf more help is needed please feel free to speak to the Numba core developers\\ndirectly at: https://gitter.im/numba/numba\\n\\nThanks in advance for your help in improving Numba!\\n\\n\")\nDuring: lowering \"<static> raise <class 'AssertionError'>(\"Unreachable condition reached (op code RERAISE executed)\\n-------------------------------------------------------------------------------\\nThis should not have happened, a problem has occurred in Numba's internals.\\nYou are currently using Numba version 0.56.4.\\n\\nPlease report the error message and traceback, along with a minimal reproducer\\nat: https://github.com/numba/numba/issues/new?template=bug_report.md\\n\\nIf more help is needed please feel free to speak to the Numba core developers\\ndirectly at: https://gitter.im/numba/numba\\n\\nThanks in advance for your help in improving Numba!\\n\\n\")\" at <ipython-input-13-02e668d2a3dc> (10)"
          ]
        }
      ]
    },
    {
      "cell_type": "code",
      "source": [
        "import tensorflow as tf\n",
        "from concurrent.futures import ThreadPoolExecutor\n",
        "import concurrent.futures\n",
        "import multiprocessing\n",
        "\n",
        "resolver = tf.distribute.cluster_resolver.TPUClusterResolver()\n",
        "tf.config.experimental_connect_to_cluster(resolver)\n",
        "tf.tpu.experimental.initialize_tpu_system(resolver)\n",
        "strategy = tf.distribute.TPUStrategy(resolver)\n",
        "\n",
        "def process_image(file):\n",
        "    extractedInformation = pytesseract.image_to_string(Image.open(file), lang='rus+eng')\n",
        "    with open(file.replace('.jpg', '.txt'), 'w', encoding='utf-8') as f:\n",
        "        f.write(extractedInformation)\n",
        "\n",
        "if __name__ == '__main__':\n",
        "    file_list = [f for f in os.listdir(path) if f.endswith('.jpg')]\n",
        "\n",
        "    with ThreadPoolExecutor(max_workers=multiprocessing.cpu_count()) as executor:\n",
        "        futures = [executor.submit(process_image, file) for file in file_list]\n",
        "        max_ = len(futures)\n",
        "        with tqdm(total=max_) as pbar:\n",
        "            for i, _ in tqdm(enumerate(concurrent.futures.as_completed(futures))):            \n",
        "                pbar.update()"
      ],
      "metadata": {
        "id": "g_MQBrUqWf4h",
        "colab": {
          "base_uri": "https://localhost:8080/"
        },
        "outputId": "9055ed57-27a2-4859-da94-db659f70284f"
      },
      "execution_count": null,
      "outputs": [
        {
          "output_type": "stream",
          "name": "stderr",
          "text": [
            "WARNING:tensorflow:TPU system grpc://10.9.96.114:8470 has already been initialized. Reinitializing the TPU can cause previously created variables on TPU to be lost.\n",
            "  0%|          | 0/23 [00:00<?, ?it/s]\n",
            "  4%|▍         | 1/23 [00:24<08:48, 24.04s/it]\n",
            "  9%|▊         | 2/23 [00:28<04:28, 12.78s/it]\n",
            " 13%|█▎        | 3/23 [00:44<04:36, 13.84s/it]\n",
            " 17%|█▋        | 4/23 [00:45<02:51,  9.02s/it]\n",
            " 22%|██▏       | 5/23 [01:06<03:55, 13.11s/it]\n",
            " 26%|██▌       | 6/23 [01:09<02:50, 10.00s/it]\n",
            " 30%|███       | 7/23 [01:20<02:43, 10.22s/it]\n",
            " 35%|███▍      | 8/23 [01:21<01:49,  7.30s/it]\n",
            " 39%|███▉      | 9/23 [01:35<02:12,  9.48s/it]\n",
            " 43%|████▎     | 10/23 [01:38<01:33,  7.20s/it]\n",
            " 48%|████▊     | 11/23 [01:51<01:47,  8.95s/it]\n",
            " 52%|█████▏    | 12/23 [01:54<01:21,  7.43s/it]\n",
            " 57%|█████▋    | 13/23 [02:06<01:27,  8.80s/it]\n",
            " 61%|██████    | 14/23 [02:09<01:02,  7.00s/it]\n",
            " 65%|██████▌   | 15/23 [02:23<01:12,  9.10s/it]\n",
            " 70%|██████▉   | 16/23 [02:28<00:54,  7.83s/it]\n",
            " 74%|███████▍  | 17/23 [02:38<00:51,  8.51s/it]\n",
            " 78%|███████▊  | 18/23 [02:45<00:39,  7.86s/it]\n",
            " 83%|████████▎ | 19/23 [02:56<00:35,  8.99s/it]\n",
            " 87%|████████▋ | 20/23 [03:07<00:28,  9.52s/it]\n",
            " 91%|█████████▏| 21/23 [03:15<00:18,  9.17s/it]\n",
            " 96%|█████████▌| 22/23 [03:31<00:11, 11.21s/it]\n",
            "100%|██████████| 23/23 [03:34<00:00,  8.81s/it]\n",
            "23it [03:34,  9.35s/it]\n",
            "100%|██████████| 23/23 [03:34<00:00,  9.35s/it]\n"
          ]
        }
      ]
    },
    {
      "cell_type": "markdown",
      "metadata": {
        "id": "MDdbltgIlF3Q"
      },
      "source": [
        "## Step4. Text Extraction"
      ]
    },
    {
      "cell_type": "markdown",
      "metadata": {
        "id": "D552cuoflHvx"
      },
      "source": [
        "### Step5. Printing the extracted information"
      ]
    },
    {
      "cell_type": "code",
      "source": [
        "file_list = [f for f in os.listdir(path) if f.endswith('.jpg')]\n",
        "\n",
        "for file in tqdm(file_list):\n",
        "    extractedInformation = pytesseract.image_to_string(Image.open(file), lang='rus')\n",
        "    with open(file.replace('.jpg', '.txt'), 'w', encoding='u8') as f:\n",
        "        f.write(extractedInformation)"
      ],
      "metadata": {
        "colab": {
          "base_uri": "https://localhost:8080/"
        },
        "id": "5CZi4lQePK78",
        "outputId": "5483c017-7eb3-4eb2-bdee-572790eaa3e7"
      },
      "execution_count": null,
      "outputs": [
        {
          "output_type": "stream",
          "name": "stderr",
          "text": [
            " 96%|█████████▌| 22/23 [02:15<00:06,  6.57s/it]"
          ]
        }
      ]
    },
    {
      "cell_type": "code",
      "source": [
        "import multiprocessing\n",
        "print(\"Количество ядер:\", multiprocessing.cpu_count())\n",
        "\n",
        "import tensorflow as tf\n",
        "gpus = tf.config.list_physical_devices('GPU')\n",
        "if gpus:\n",
        "    for gpu in gpus:\n",
        "        print(\"Количество CUDA-ядер:\", gpu.attributes['num_cores'])"
      ],
      "metadata": {
        "colab": {
          "base_uri": "https://localhost:8080/"
        },
        "id": "cSiIvM7EjSmH",
        "outputId": "c769e371-cf39-4577-97e8-e054d86909b2"
      },
      "execution_count": null,
      "outputs": [
        {
          "output_type": "stream",
          "name": "stdout",
          "text": [
            "Количество ядер: 2\n"
          ]
        }
      ]
    }
  ]
}